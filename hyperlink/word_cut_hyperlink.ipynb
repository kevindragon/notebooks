{
 "cells": [
  {
   "cell_type": "markdown",
   "metadata": {
    "ein.tags": [
     "worksheet-0"
    ],
    "slideshow": {
     "slide_type": "-"
    }
   },
   "source": [
    "# 使用gensim训练字向量\n",
    "\n",
    "使用字向量的形式计算一个字前后是否要切分"
   ]
  },
  {
   "cell_type": "code",
   "execution_count": 2,
   "metadata": {
    "autoscroll": "json-false",
    "collapsed": false,
    "ein.tags": [
     "worksheet-0"
    ],
    "slideshow": {
     "slide_type": "-"
    }
   },
   "outputs": [],
   "source": [
    "import pymysql.cursors\n",
    "from bs4 import BeautifulSoup\n",
    "import re\n",
    "import math"
   ]
  },
  {
   "cell_type": "code",
   "execution_count": 20,
   "metadata": {
    "autoscroll": "json-false",
    "collapsed": false,
    "ein.tags": [
     "worksheet-0"
    ],
    "slideshow": {
     "slide_type": "-"
    }
   },
   "outputs": [],
   "source": [
    "def get_connection():\n",
    "    connection = pymysql.connect(host='localhost',\n",
    "                                 user='root',\n",
    "                                 password='qwe123',\n",
    "                                 db='newlaw', \n",
    "                                 charset='utf8mb4')\n",
    "    return connection\n",
    "\n",
    "def pure_content(content):\n",
    "    return re.sub(\"[\\r\\n 　]\", \"\", content)\n",
    "\n",
    "def remove_html_tags(content):\n",
    "    return BeautifulSoup(pure_content(content), 'html.parser').get_text()\n",
    "\n",
    "def corr(N, Nx, Ny, Nxy):\n",
    "    pNx = math.log10(N/Nx)\n",
    "    pNy = math.log10(N/Ny)\n",
    "    pxy = Nxy / (Nx + Ny - Nxy)\n",
    "    print(\"total = \", N, \"\\nNx = \", Nx, \"\\nNy = \", Ny,\n",
    "          \"\\nNxy = \", Nxy, \"\\npNx = \", pNx, \"\\npNy = \", pNy,\n",
    "          \"\\npxy = \", pxy)\n",
    "    return pNx * pNy * pxy"
   ]
  },
  {
   "cell_type": "code",
   "execution_count": 17,
   "metadata": {
    "autoscroll": "json-false",
    "collapsed": false,
    "ein.tags": [
     "worksheet-0"
    ],
    "slideshow": {
     "slide_type": "-"
    }
   },
   "outputs": [],
   "source": [
    "def get_contents(conn):\n",
    "    try:\n",
    "        with conn.cursor() as cursor:\n",
    "            sql = \"select content \" + \\\n",
    "            \"from ex_news_contents where isEnglish = 'N'\" + \\\n",
    "            \" limit 20000\"\n",
    "            cursor.execute(sql)\n",
    "            return cursor.fetchall()\n",
    "    except BaseException as e:\n",
    "        print(e)\n"
   ]
  },
  {
   "cell_type": "code",
   "execution_count": 15,
   "metadata": {
    "autoscroll": "json-false",
    "collapsed": false,
    "ein.tags": [
     "worksheet-0"
    ],
    "slideshow": {
     "slide_type": "-"
    }
   },
   "outputs": [],
   "source": [
    "contents = get_contents(get_connection())\n",
    "sentences = []\n",
    "doc_count = 0.0\n",
    "chars = {}\n",
    "words = {}\n",
    "for content in contents:\n",
    "    doc_count += 1\n",
    "    pc = pure_content(remove_html_tags(content[0]))\n",
    "    doc_chars = {}\n",
    "    doc_words = {}\n",
    "    for i in range(len(pc)-1):\n",
    "        char1 = pc[i]\n",
    "        char2 = pc[i+1]\n",
    "        if char1 not in doc_chars:\n",
    "            doc_chars[char1] = 1.0\n",
    "        if char2 not in doc_chars:\n",
    "            doc_chars[char2] = 1.0\n",
    "        word = char1 + char2\n",
    "        if word not in doc_words:\n",
    "            doc_words[word] = 1.0\n",
    "\n",
    "    for k, v in doc_chars.items():\n",
    "        if k in chars:\n",
    "            chars[k] += v\n",
    "        else:\n",
    "            chars[k] = 1.0\n",
    "\n",
    "    for k, v in doc_words.items():\n",
    "        if k in words:\n",
    "            words[k] += v\n",
    "        else:\n",
    "            words[k] = 1.0"
   ]
  },
  {
   "cell_type": "code",
   "execution_count": 24,
   "metadata": {
    "autoscroll": "json-false",
    "collapsed": false,
    "ein.tags": [
     "worksheet-0"
    ],
    "slideshow": {
     "slide_type": "-"
    }
   },
   "outputs": [
    {
     "name": "stdout",
     "output_type": "stream",
     "text": [
      "total =  20000.0 \n",
      "Nx =  13699.0 \n",
      "Ny =  13003.0 \n",
      "Nxy =  5044.0 \n",
      "pNx =  0.1643411299917232 \n",
      "pNy =  0.18698643311590377 \n",
      "pxy =  0.23289315726290516\n",
      "0.00715670464827076\n",
      "total =  20000.0 \n",
      "Nx =  13003.0 \n",
      "Ny =  7936.0 \n",
      "Nxy =  1.0 \n",
      "pNx =  0.18698643311590377 \n",
      "pNy =  0.4014283365178589 \n",
      "pxy =  4.776005349125991e-05\n",
      "3.5849485527330754e-06\n"
     ]
    }
   ],
   "source": [
    "#print(chars, words)\n",
    "#print(corr(doc_count, chars['法'], chars['规'], words['法规']))\n",
    "#print(corr(doc_count, chars['规'], chars['定'], words['规定']))\n",
    "\n",
    "print(corr(doc_count, chars['法'], chars['规'], words['法规']))\n",
    "print(corr(doc_count, chars['规'], chars['职'], words['规职']))"
   ]
  }
 ],
 "metadata": {
  "kernelspec": {
   "display_name": "Python [conda root]",
   "name": "conda-root-py"
  },
  "name": "word_cut_hyperlink.ipynb"
 },
 "nbformat": 4,
 "nbformat_minor": 1
}
